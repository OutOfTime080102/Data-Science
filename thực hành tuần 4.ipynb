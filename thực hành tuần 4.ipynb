{
 "cells": [
  {
   "cell_type": "markdown",
   "source": [
    "II. Lập trình đệ quy"
   ],
   "metadata": {
    "collapsed": false
   }
  },
  {
   "cell_type": "markdown",
   "source": [
    "3. Tìm số Fibonacci thứ n."
   ],
   "metadata": {
    "collapsed": false
   }
  },
  {
   "cell_type": "code",
   "execution_count": 5,
   "outputs": [
    {
     "name": "stdout",
     "output_type": "stream",
     "text": [
      "39088169\n"
     ]
    }
   ],
   "source": [
    "def fibonacci(n):\n",
    "   if n == 1 or n == 2:\n",
    "       return 1\n",
    "   return fibonacci(n-1) + fibonacci(n-2)\n",
    "\n",
    "try:\n",
    "\n",
    "   n = int(input())\n",
    "\n",
    "   if n <= 0:\n",
    "       print(\"Nhập số n :\")\n",
    "   else:\n",
    "       print(fibonacci(n))\n",
    "\n",
    "except:\n",
    "   print(\"Nhập sai số n\")"
   ],
   "metadata": {
    "collapsed": false
   }
  },
  {
   "cell_type": "markdown",
   "source": [
    "2. Phân tích số nguyên thành tích các thừa số nguyên tố."
   ],
   "metadata": {
    "collapsed": false
   }
  },
  {
   "cell_type": "code",
   "execution_count": 15,
   "outputs": [
    {
     "name": "stdout",
     "output_type": "stream",
     "text": [
      "Kết quả: 55 = 5 x 11\n"
     ]
    }
   ],
   "source": [
    "def phanTichSo(n):\n",
    "    i = 2;\n",
    "    listNumbers = [];\n",
    "\n",
    "    while (n > 1):\n",
    "        if (n % i == 0):\n",
    "            n = int(n / i);\n",
    "            listNumbers.append(i);\n",
    "        else:\n",
    "            i = i + 1;\n",
    "\n",
    "    if (len(listNumbers) == 0):\n",
    "        listNumbers.append(n);\n",
    "    return listNumbers;\n",
    "\n",
    "n = int(input(\"Nhập số nguyên dương n = \"));\n",
    "\n",
    "listNumbers = phanTichSoNguyen(n);\n",
    "size = len(listNumbers);\n",
    "sn = \"\";\n",
    "for i in range(0, size - 1):\n",
    "    sn = sn + str(listNumbers[i]) + \" x \";\n",
    "sn = sn + str(listNumbers[size-1]);\n",
    "\n",
    "print(\"Kết quả:\", n, \"=\", sn);"
   ],
   "metadata": {
    "collapsed": false
   }
  },
  {
   "cell_type": "markdown",
   "source": [
    "II. Đặt bài toán, thiết kế, phân tích và triển khai thuật toán"
   ],
   "metadata": {
    "collapsed": false
   }
  },
  {
   "cell_type": "markdown",
   "source": [
    "Bài toán tính giai thừa"
   ],
   "metadata": {
    "collapsed": false
   }
  },
  {
   "cell_type": "code",
   "execution_count": 2,
   "outputs": [
    {
     "name": "stdout",
     "output_type": "stream",
     "text": [
      "Kết quả là :  1\n"
     ]
    }
   ],
   "source": [
    "def tinhgiaithua(n) :\n",
    "    if n == 0:\n",
    "        return 1;\n",
    "    return n * tinhgiaithua(n-1)\n",
    "def main() :\n",
    "    n = int(input('nhập n : '))\n",
    "    print('Kết quả là : ',tinhgiaithua(n))\n",
    "main()"
   ],
   "metadata": {
    "collapsed": false
   }
  }
 ],
 "metadata": {
  "kernelspec": {
   "display_name": "Python 3",
   "language": "python",
   "name": "python3"
  },
  "language_info": {
   "codemirror_mode": {
    "name": "ipython",
    "version": 2
   },
   "file_extension": ".py",
   "mimetype": "text/x-python",
   "name": "python",
   "nbconvert_exporter": "python",
   "pygments_lexer": "ipython2",
   "version": "2.7.6"
  }
 },
 "nbformat": 4,
 "nbformat_minor": 0
}
