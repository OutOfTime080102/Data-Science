{
 "cells": [
  {
   "cell_type": "markdown",
   "source": [
    "1. Tìm kiếm nhị phân trên mảng được sắp."
   ],
   "metadata": {
    "collapsed": false
   }
  },
  {
   "cell_type": "code",
   "execution_count": 13,
   "outputs": [
    {
     "name": "stdout",
     "output_type": "stream",
     "text": [
      "None\n",
      "2\n",
      "3\n",
      "None\n",
      "1\n"
     ]
    }
   ],
   "source": [
    "def binarySearch(arr, num, idx=0):\n",
    "  if len(arr) == 1: #base case\n",
    "    if arr[0] == num:\n",
    "      return idx\n",
    "    else:\n",
    "      return None #not found\n",
    "\n",
    "  mid = len(arr) // 2\n",
    "  if arr[mid] > num:\n",
    "    return binarySearch(arr[:mid], num, idx)\n",
    "  else:\n",
    "    return binarySearch(arr[mid:], num, idx + mid)\n",
    "\n",
    "print(binarySearch([1,2,3,4], 7)) #None\n",
    "print(binarySearch([1,2,3,4], 3)) #2\n",
    "print(binarySearch([1,2,3,4], 4)) #3\n",
    "print(binarySearch([1], 2)) #None\n",
    "print(binarySearch([1,2], 2)) #1"
   ],
   "metadata": {
    "collapsed": false
   }
  },
  {
   "cell_type": "markdown",
   "source": [
    "2. Tìm giá trị lớn nhất và nhỏ nhất trong một dãy n giá trị."
   ],
   "metadata": {
    "collapsed": false
   }
  },
  {
   "cell_type": "code",
   "execution_count": 25,
   "outputs": [
    {
     "name": "stdout",
     "output_type": "stream",
     "text": [
      "The minimum element in the list is 1\n",
      "The maximum element in the list is 9\n"
     ]
    }
   ],
   "source": [
    "import sys\n",
    "\n",
    "# Divide and conquer solution to find the minimum and maximum number in a list\n",
    "def findMinAndMax(nums, left, right, min=sys.maxsize, max=-sys.maxsize):\n",
    "\n",
    "    # if the list contains only one element\n",
    "\n",
    "    if left == right:               # common comparison\n",
    "\n",
    "        if min > nums[right]:          # comparison 1\n",
    "            min = nums[right]\n",
    "\n",
    "        if max < nums[left]:           # comparison 2\n",
    "            max = nums[left]\n",
    "\n",
    "        return min, max\n",
    "\n",
    "    # if the list contains only two elements\n",
    "\n",
    "    if right - left == 1:           # common comparison\n",
    "\n",
    "        if nums[left] < nums[right]:      # comparison 1\n",
    "            if min > nums[left]:       # comparison 2\n",
    "                min = nums[left]\n",
    "\n",
    "            if max < nums[right]:      # comparison 3\n",
    "                max = nums[right]\n",
    "\n",
    "        else:\n",
    "            if min > nums[right]:      # comparison 2\n",
    "                min = nums[right]\n",
    "\n",
    "            if max < nums[left]:       # comparison 3\n",
    "                max = nums[left]\n",
    "\n",
    "        return min, max\n",
    "\n",
    "    # find the middle element\n",
    "    mid = (left + right) // 2\n",
    "\n",
    "    # recur for the left sublist\n",
    "    min, max = findMinAndMax(nums, left, mid, min, max)\n",
    "\n",
    "    # recur for the right sublist\n",
    "    min, max = findMinAndMax(nums, mid + 1, right, min, max)\n",
    "\n",
    "    return min, max\n",
    "\n",
    "\n",
    "if __name__ == '__main__':\n",
    "\n",
    "    nums = [7, 2, 9, 3, 1, 6, 7, 8, 4]\n",
    "\n",
    "    # initialize the minimum element by INFINITY and the\n",
    "    # maximum element by -INFINITY\n",
    "    (min, max) = findMinAndMax(nums, 0, len(nums) - 1)\n",
    "\n",
    "    print(\"The minimum element in the list is\", min)\n",
    "    print(\"The maximum element in the list is\", max)"
   ],
   "metadata": {
    "collapsed": false
   }
  },
  {
   "cell_type": "markdown",
   "source": [
    "4. Check for Majority Element in a sorted array."
   ],
   "metadata": {
    "collapsed": false
   }
  },
  {
   "cell_type": "code",
   "execution_count": 26,
   "outputs": [
    {
     "name": "stdout",
     "output_type": "stream",
     "text": [
      "9\n"
     ]
    }
   ],
   "source": [
    "class Node():\n",
    "    def __init__(self, data):\n",
    "        self.data = data\n",
    "        self.left = None\n",
    "        self.right = None\n",
    "        self.count = 1  # count of number of times data is inserted in tree\n",
    "\n",
    "class BST():\n",
    "    def __init__(self):\n",
    "        self.root = None\n",
    "\n",
    "    def insert(self, data, n):\n",
    "        out = None\n",
    "        if (self.root == None):\n",
    "            self.root = Node(data)\n",
    "        else:\n",
    "            out = self.insertNode(self.root, data, n)\n",
    "        return out\n",
    "\n",
    "    def insertNode(self, currentNode, data, n):\n",
    "        if (currentNode.data == data):\n",
    "            currentNode.count += 1\n",
    "            if (currentNode.count > n//2):\n",
    "                return currentNode.data\n",
    "            else:\n",
    "                return None\n",
    "        elif (currentNode.data < data):\n",
    "            if (currentNode.right):\n",
    "                self.insertNode(currentNode.right, data, n)\n",
    "            else:\n",
    "                currentNode.right = Node(data)\n",
    "        elif (currentNode.data > data):\n",
    "            if (currentNode.left):\n",
    "                self.insertNode(currentNode.left, data, n)\n",
    "            else:\n",
    "                currentNode.left = Node(data)\n",
    "\n",
    "\n",
    "# Main code\n",
    "arr = [9, 4, 3, 9, 9, 4, 9, 9, 8]\n",
    "n = len(arr)\n",
    "\n",
    "# declaring None tree\n",
    "tree = BST()\n",
    "flag = 0\n",
    "for i in range(n):\n",
    "    out = tree.insert(arr[i], n)\n",
    "    if (out != None):\n",
    "        print(arr[i])\n",
    "        flag = 1\n",
    "        break\n",
    "if (flag == 0):\n",
    "    print(\"No Majority Element Found\")"
   ],
   "metadata": {
    "collapsed": false
   }
  },
  {
   "cell_type": "markdown",
   "source": [
    "IV. Đặt bài toán, thiết kế, phân tích và triển khai thuật toán"
   ],
   "metadata": {
    "collapsed": false
   }
  },
  {
   "cell_type": "markdown",
   "source": [
    "Bài toán tìm cặp điểm gần nhất (Closest pair of point)"
   ],
   "metadata": {
    "collapsed": false
   }
  },
  {
   "cell_type": "code",
   "execution_count": 31,
   "outputs": [
    {
     "name": "stdout",
     "output_type": "stream",
     "text": [
      "The smallest distance is 1.4142135623730951\n"
     ]
    }
   ],
   "source": [
    "import math\n",
    "\n",
    "\n",
    "class Point:\n",
    "    def __init__(self, x, y):\n",
    "        self.x = x\n",
    "        self.y = y\n",
    "\n",
    "\n",
    "def compareX(a, b):\n",
    "    p1 = a\n",
    "    p2 = b\n",
    "    return (p1.x - p2.x)\n",
    "\n",
    "\n",
    "def compareY(a, b):\n",
    "    p1 = a\n",
    "    p2 = b\n",
    "    return (p1.y - p2.y)\n",
    "\n",
    "\n",
    "def dist(p1, p2):\n",
    "    return math.sqrt((p1.x - p2.x)*(p1.x - p2.x) + (p1.y - p2.y)*(p1.y - p2.y))\n",
    "\n",
    "\n",
    "def bruteForce(P, n):\n",
    "    min_dist = float(\"inf\")\n",
    "    for i in range(n):\n",
    "        for j in range(i+1, n):\n",
    "            if dist(P[i], P[j]) < min_dist:\n",
    "                min_dist = dist(P[i], P[j])\n",
    "    return min_dist\n",
    "\n",
    "\n",
    "def min(x, y):\n",
    "    return x if x < y else y\n",
    "\n",
    "\n",
    "def stripClosest(strip, size, d):\n",
    "    min_dist = d\n",
    "    strip = sorted(strip, key=lambda point: point.y)\n",
    "\n",
    "    for i in range(size):\n",
    "        for j in range(i+1, size):\n",
    "            if (strip[j].y - strip[i].y) >= min_dist:\n",
    "                break\n",
    "            if dist(strip[i], strip[j]) < min_dist:\n",
    "                min_dist = dist(strip[i], strip[j])\n",
    "    return min_dist\n",
    "\n",
    "\n",
    "def closestUtil(P, n):\n",
    "    if n <= 3:\n",
    "        return bruteForce(P, n)\n",
    "    mid = n//2\n",
    "    midPoint = P[mid]\n",
    "    dl = closestUtil(P, mid)\n",
    "    dr = closestUtil(P[mid:], n - mid)\n",
    "    d = min(dl, dr)\n",
    "    strip = []\n",
    "    for i in range(n):\n",
    "        if abs(P[i].x - midPoint.x) < d:\n",
    "            strip.append(P[i])\n",
    "    return min(d, stripClosest(strip, len(strip), d))\n",
    "\n",
    "\n",
    "def closest(P, n):\n",
    "    P = sorted(P, key=lambda point: point.x)\n",
    "    return closestUtil(P, n)\n",
    "\n",
    "\n",
    "if __name__ == \"__main__\":\n",
    "    P = [Point(x=2, y=3), Point(x=12, y=30),\n",
    "         Point(x=40, y=50), Point(x=5, y=1), Point(x=12, y=10), Point(x=3, y=4)]\n",
    "    n = len(P)\n",
    "    print(\"The smallest distance is\", closest(P, n))"
   ],
   "metadata": {
    "collapsed": false
   }
  }
 ],
 "metadata": {
  "kernelspec": {
   "display_name": "Python 3",
   "language": "python",
   "name": "python3"
  },
  "language_info": {
   "codemirror_mode": {
    "name": "ipython",
    "version": 2
   },
   "file_extension": ".py",
   "mimetype": "text/x-python",
   "name": "python",
   "nbconvert_exporter": "python",
   "pygments_lexer": "ipython2",
   "version": "2.7.6"
  }
 },
 "nbformat": 4,
 "nbformat_minor": 0
}
