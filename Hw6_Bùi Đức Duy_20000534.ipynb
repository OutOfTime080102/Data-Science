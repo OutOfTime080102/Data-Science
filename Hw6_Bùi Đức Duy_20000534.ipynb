{
 "cells": [
  {
   "cell_type": "markdown",
   "source": [
    "4. Thuật toán Prim tìm cây bao trùm tối thiểu (Minimal Spanning Tree)."
   ],
   "metadata": {
    "collapsed": false
   }
  },
  {
   "cell_type": "code",
   "execution_count": 1,
   "metadata": {
    "collapsed": true
   },
   "outputs": [
    {
     "name": "stdout",
     "output_type": "stream",
     "text": [
      "Minimal Spanning Tree: [('A', 'B', 2), ('B', 'C', 3), ('C', 'E', 5), ('A', 'D', 6)]\n",
      "Time taken: 0.0\n"
     ]
    }
   ],
   "source": [
    "def prim(graph, start):\n",
    "    visited = set()\n",
    "    visited.add(start)\n",
    "\n",
    "    mst = []\n",
    "    edges = []\n",
    "\n",
    "    for v, w in graph[start].items():\n",
    "        edges.append((start, v, w))\n",
    "\n",
    "    edges.sort(key=lambda e: e[2])\n",
    "\n",
    "    while edges:\n",
    "        u, v, w = edges.pop(0)\n",
    "\n",
    "        if v in visited:\n",
    "            continue\n",
    "\n",
    "        visited.add(v)\n",
    "        mst.append((u, v, w))\n",
    "\n",
    "        for x, y in graph[v].items():\n",
    "            if x not in visited:\n",
    "                edges.append((v, x, y))\n",
    "\n",
    "        edges.sort(key=lambda e: e[2])\n",
    "\n",
    "    return mst\n",
    "\n",
    "# Example usage:\n",
    "graph = {\n",
    "    'A': {'B': 2, 'D': 6},\n",
    "    'B': {'A': 2, 'C': 3, 'D': 8},\n",
    "    'C': {'B': 3, 'E': 5},\n",
    "    'D': {'A': 6, 'B': 8, 'E': 9},\n",
    "    'E': {'C': 5, 'D': 9},\n",
    "}\n",
    "\n",
    "import time\n",
    "\n",
    "start = time.time()\n",
    "mst = prim(graph, 'A')\n",
    "end = time.time()\n",
    "\n",
    "print('Minimal Spanning Tree:', mst)\n",
    "print('Time taken:', end - start)\n"
   ]
  },
  {
   "cell_type": "markdown",
   "source": [
    "5. Thuật toán Kruskal tìm cây bao trùm tối thiểu (Minimal Spanning Tree)."
   ],
   "metadata": {
    "collapsed": false
   }
  },
  {
   "cell_type": "code",
   "execution_count": 9,
   "outputs": [
    {
     "name": "stdout",
     "output_type": "stream",
     "text": [
      "Edges in the constructed MST\n",
      "2 -- 3 == 4\n",
      "0 -- 3 == 5\n",
      "0 -- 1 == 10\n",
      "Minimum Spanning Tree 19\n"
     ]
    }
   ],
   "source": [
    "class Graph:\n",
    "\n",
    "    def __init__(self, vertices):\n",
    "        self.V = vertices\n",
    "        self.graph = []\n",
    "\n",
    "    # Function to add an edge to graph\n",
    "    def addEdge(self, u, v, w):\n",
    "        self.graph.append([u, v, w])\n",
    "\n",
    "    # A utility function to find set of an element i\n",
    "    # (truly uses path compression technique)\n",
    "    def find(self, parent, i):\n",
    "        if parent[i] != i:\n",
    "\n",
    "            # Reassignment of node's parent\n",
    "            # to root node as\n",
    "            # path compression requires\n",
    "            parent[i] = self.find(parent, parent[i])\n",
    "        return parent[i]\n",
    "\n",
    "    # A function that does union of two sets of x and y\n",
    "    # (uses union by rank)\n",
    "    def union(self, parent, rank, x, y):\n",
    "\n",
    "        # Attach smaller rank tree under root of\n",
    "        # high rank tree (Union by Rank)\n",
    "        if rank[x] < rank[y]:\n",
    "            parent[x] = y\n",
    "        elif rank[x] > rank[y]:\n",
    "            parent[y] = x\n",
    "\n",
    "        # If ranks are same, then make one as root\n",
    "        # and increment its rank by one\n",
    "        else:\n",
    "            parent[y] = x\n",
    "            rank[x] += 1\n",
    "\n",
    "    # The main function to construct MST\n",
    "    # using Kruskal's algorithm\n",
    "    def KruskalMST(self):\n",
    "\n",
    "        # This will store the resultant MST\n",
    "        result = []\n",
    "\n",
    "        # An index variable, used for sorted edges\n",
    "        i = 0\n",
    "\n",
    "        # An index variable, used for result[]\n",
    "        e = 0\n",
    "\n",
    "        # Sort all the edges in\n",
    "        # non-decreasing order of their\n",
    "        # weight\n",
    "        self.graph = sorted(self.graph,\n",
    "                            key=lambda item: item[2])\n",
    "\n",
    "        parent = []\n",
    "        rank = []\n",
    "\n",
    "        # Create V subsets with single elements\n",
    "        for node in range(self.V):\n",
    "            parent.append(node)\n",
    "            rank.append(0)\n",
    "\n",
    "        # Number of edges to be taken is less than to V-1\n",
    "        while e < self.V - 1:\n",
    "\n",
    "            # Pick the smallest edge and increment\n",
    "            # the index for next iteration\n",
    "            u, v, w = self.graph[i]\n",
    "            i = i + 1\n",
    "            x = self.find(parent, u)\n",
    "            y = self.find(parent, v)\n",
    "\n",
    "            # If including this edge doesn't\n",
    "            # cause cycle, then include it in result\n",
    "            # and increment the index of result\n",
    "            # for next edge\n",
    "            if x != y:\n",
    "                e = e + 1\n",
    "                result.append([u, v, w])\n",
    "                self.union(parent, rank, x, y)\n",
    "            # Else discard the edge\n",
    "\n",
    "        minimumCost = 0\n",
    "        print(\"Edges in the constructed MST\")\n",
    "        for u, v, weight in result:\n",
    "            minimumCost += weight\n",
    "            print(\"%d -- %d == %d\" % (u, v, weight))\n",
    "        print(\"Minimum Spanning Tree\", minimumCost)\n",
    "\n",
    "\n",
    "# Driver code\n",
    "if __name__ == '__main__':\n",
    "    g = Graph(4)\n",
    "    g.addEdge(0, 1, 10)\n",
    "    g.addEdge(0, 2, 6)\n",
    "    g.addEdge(0, 3, 5)\n",
    "    g.addEdge(1, 3, 15)\n",
    "    g.addEdge(2, 3, 4)\n",
    "\n",
    "    # Function call\n",
    "    g.KruskalMST()\n"
   ],
   "metadata": {
    "collapsed": false
   }
  },
  {
   "cell_type": "markdown",
   "source": [
    "3. Bài toán lập lịch sử dụng tài nguyên (Activity Selection/Task Scheduling)"
   ],
   "metadata": {
    "collapsed": false
   }
  },
  {
   "cell_type": "code",
   "execution_count": 10,
   "outputs": [
    {
     "name": "stdout",
     "output_type": "stream",
     "text": [
      "Following activities are selected\n",
      "0 1 3 4 "
     ]
    }
   ],
   "source": [
    "def printMaxActivities(s, f):\n",
    "    n = len(f)\n",
    "    print(\"Following activities are selected\")\n",
    "\n",
    "    # The first activity is always selected\n",
    "    i = 0\n",
    "    print(i, end=' ')\n",
    "\n",
    "    # Consider rest of the activities\n",
    "    for j in range(1, n):\n",
    "\n",
    "        # If this activity has start time greater than\n",
    "        # or equal to the finish time of previously\n",
    "        # selected activity, then select it\n",
    "        if s[j] >= f[i]:\n",
    "            print(j, end=' ')\n",
    "            i = j\n",
    "\n",
    "\n",
    "# Driver code\n",
    "if __name__ == '__main__':\n",
    "    s = [1, 3, 0, 5, 8, 5]\n",
    "    f = [2, 4, 6, 7, 9, 9]\n",
    "\n",
    "    # Function call\n",
    "    printMaxActivities(s, f)"
   ],
   "metadata": {
    "collapsed": false
   }
  }
 ],
 "metadata": {
  "kernelspec": {
   "display_name": "Python 3",
   "language": "python",
   "name": "python3"
  },
  "language_info": {
   "codemirror_mode": {
    "name": "ipython",
    "version": 2
   },
   "file_extension": ".py",
   "mimetype": "text/x-python",
   "name": "python",
   "nbconvert_exporter": "python",
   "pygments_lexer": "ipython2",
   "version": "2.7.6"
  }
 },
 "nbformat": 4,
 "nbformat_minor": 0
}
